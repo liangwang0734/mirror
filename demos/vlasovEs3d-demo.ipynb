{
 "cells": [
  {
   "cell_type": "code",
   "execution_count": 2,
   "metadata": {},
   "outputs": [
    {
     "name": "stdout",
     "output_type": "stream",
     "text": [
      "Ns [13 13 13 13 13 13 13 13 13 13 13 13 13 13 13 13 13 13 13 13 13 13 13 13\n",
      " 13 13 13 13 13 13 13 13 13 13 13 13 13 13 13 13 13 13 13 13 13 13 13 13\n",
      " 13 13]\n"
     ]
    },
    {
     "data": {
      "image/png": "[encoded data removed]",
      "text/plain": [
       "<Figure size 576x288 with 2 Axes>"
      ]
     },
     "metadata": {
      "needs_background": "light"
     },
     "output_type": "display_data"
    }
   ],
   "source": [
    "\"\"\"\n",
    "DEMO: Electron Bernstein's modes\n",
    "\"\"\"\n",
    "\n",
    "import matplotlib.pyplot as plt\n",
    "import numpy as np\n",
    "plt.rcParams['axes.labelsize'] = 'xx-large'\n",
    "\n",
    "import sys\n",
    "sys.path.append('../../')\n",
    "import xenon\n",
    "\n",
    "# fundamental parameters\n",
    "eps0 = 1.\n",
    "q = 1.\n",
    "me = 1.\n",
    "B = 1.\n",
    "\n",
    "# problem-specific parameters\n",
    "theta = np.pi / 180. * 90.\n",
    "wpe_over_wce = 2.5\n",
    "kB_Te = 1.\n",
    "vxe = 0.\n",
    "vze = 0.\n",
    "\n",
    "qe = -q\n",
    "wce = qe * B / me\n",
    "wpe = np.abs(wce) * wpe_over_wce\n",
    "ne = me * eps0 * wpe**2 / qe**2\n",
    "pe = ne * kB_Te\n",
    "pxe = pe  # p_para\n",
    "pze = pe  # p_perp\n",
    "\n",
    "# pack parameters for dr solving\n",
    "species = [\n",
    "    [qe, me, ne, vxe, vze, pxe, pze],\n",
    "]\n",
    "# whether each species is magnetized or not\n",
    "# if not, the species will be treated like es1d\n",
    "isMag = [True]\n",
    "\n",
    "params = dict(\n",
    "    epsilon0=eps0,\n",
    "    Bz=B,\n",
    ")\n",
    "\n",
    "# normalization for convenience\n",
    "lamDze = np.sqrt(eps0 * pze / (ne * qe)**2)\n",
    "k0 = 1 / lamDze\n",
    "knorm_name = '\\lambda_{De}'\n",
    "\n",
    "wce = qe * B / me\n",
    "w0 = abs(wce)\n",
    "wnorm_name = '/\\omega_{ce}'\n",
    "\n",
    "# k-vector\n",
    "ks = np.linspace(0.01, 2, 50) * k0\n",
    "kxs = ks * np.sin(theta)\n",
    "kzs = ks * np.cos(theta)\n",
    "\n",
    "# dr calcualation parameters\n",
    "J = 8  # order of Pade approximation\n",
    "N = 13  # number of bessel function terms to include\n",
    "\n",
    "# solve for dr\n",
    "ws_es3d = xenon.vlasov.k2w_es3d(kxs, kzs, species, params, isMag, J=J, N=N)\n",
    "\n",
    "# plot dr\n",
    "pargs = dict(\n",
    "    s=10,\n",
    "    alpha=0.5,\n",
    ")\n",
    "fig, (ax0, ax1) = plt.subplots(1, 2, figsize=(8, 4), sharex=True)\n",
    "xenon.common.plot_dr(ks,\n",
    "                    ws_es3d,\n",
    "                    wnorm=w0,\n",
    "                    knorm=k0,\n",
    "                    wnorm_name=wnorm_name,\n",
    "                    knorm_name=knorm_name,\n",
    "                    wrmin=-0.1,\n",
    "                    wrmax=5.5,\n",
    "                    ax0=ax0,\n",
    "                    ax1=ax1,\n",
    "                    pargs0=pargs,\n",
    "                    pargs1=pargs)\n",
    "fig.tight_layout()\n",
    "plt.show()"
   ]
  },
  {
   "cell_type": "code",
   "execution_count": null,
   "metadata": {},
   "outputs": [],
   "source": []
  }
 ],
 "metadata": {
  "kernelspec": {
   "display_name": "Python 3",
   "language": "python",
   "name": "python3"
  },
  "language_info": {
   "codemirror_mode": {
    "name": "ipython",
    "version": 3
   },
   "file_extension": ".py",
   "mimetype": "text/x-python",
   "name": "python",
   "nbconvert_exporter": "python",
   "pygments_lexer": "ipython3",
   "version": "3.7.7"
  }
 },
 "nbformat": 4,
 "nbformat_minor": 4
}
